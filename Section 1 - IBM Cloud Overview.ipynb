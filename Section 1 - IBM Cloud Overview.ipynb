{
 "cells": [
  {
   "cell_type": "markdown",
   "metadata": {},
   "source": [
    "# 1.1. Understand the types of Cloud deployment options."
   ]
  },
  {
   "cell_type": "markdown",
   "metadata": {},
   "source": [
    "## 1.1.1. Describe a Public Cloud.\n",
    "\n",
    "\n",
    "I. A public cloud is a tyoe if cloud computing in whihc a third party service provider makes computing resources, which can include anything from ready-to-use software applications, to individual VMs, to complete enterprise-grade infrastructures and development platforms—available to users over the public Internet.\n",
    "\n",
    "II. Rescources may be accessible for free, or access might be be sold according to subscription-based or pay-per-usage prcing models.\n",
    "\n",
    "III. The public cloud provider owns and administers the data centers where customers' workloads run. \n",
    "\n",
    "IV. Providers Responsibility: All hardwares and infrastructure maintenance; prodvides high-bandwidth network connectivity; manages the underlying virtualization software.\n",
    "    \n",
    "    "
   ]
  }
 ],
 "metadata": {
  "kernelspec": {
   "display_name": "Python 3",
   "language": "python",
   "name": "python3"
  },
  "language_info": {
   "codemirror_mode": {
    "name": "ipython",
    "version": 3
   },
   "file_extension": ".py",
   "mimetype": "text/x-python",
   "name": "python",
   "nbconvert_exporter": "python",
   "pygments_lexer": "ipython3",
   "version": "3.7.6"
  }
 },
 "nbformat": 4,
 "nbformat_minor": 4
}
